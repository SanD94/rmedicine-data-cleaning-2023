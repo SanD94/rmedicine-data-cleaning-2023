{
 "cells": [
  {
   "cell_type": "code",
   "execution_count": 1,
   "id": "80c26694-3788-4126-af75-dae4049bcc5f",
   "metadata": {},
   "outputs": [
    {
     "name": "stderr",
     "output_type": "stream",
     "text": [
      "── \u001b[1mAttaching core tidyverse packages\u001b[22m ──────────────────────────────────────────────────────────────────── tidyverse 2.0.0 ──\n",
      "\u001b[32m✔\u001b[39m \u001b[34mdplyr    \u001b[39m 1.1.2     \u001b[32m✔\u001b[39m \u001b[34mreadr    \u001b[39m 2.1.4\n",
      "\u001b[32m✔\u001b[39m \u001b[34mforcats  \u001b[39m 1.0.0     \u001b[32m✔\u001b[39m \u001b[34mstringr  \u001b[39m 1.5.0\n",
      "\u001b[32m✔\u001b[39m \u001b[34mggplot2  \u001b[39m 3.4.2     \u001b[32m✔\u001b[39m \u001b[34mtibble   \u001b[39m 3.2.1\n",
      "\u001b[32m✔\u001b[39m \u001b[34mlubridate\u001b[39m 1.9.2     \u001b[32m✔\u001b[39m \u001b[34mtidyr    \u001b[39m 1.3.0\n",
      "\u001b[32m✔\u001b[39m \u001b[34mpurrr    \u001b[39m 1.0.1     \n",
      "── \u001b[1mConflicts\u001b[22m ────────────────────────────────────────────────────────────────────────────────────── tidyverse_conflicts() ──\n",
      "\u001b[31m✖\u001b[39m \u001b[34mdplyr\u001b[39m::\u001b[32mfilter()\u001b[39m masks \u001b[34mstats\u001b[39m::filter()\n",
      "\u001b[31m✖\u001b[39m \u001b[34mdplyr\u001b[39m::\u001b[32mlag()\u001b[39m    masks \u001b[34mstats\u001b[39m::lag()\n",
      "\u001b[36mℹ\u001b[39m Use the conflicted package (\u001b[3m\u001b[34m<http://conflicted.r-lib.org/>\u001b[39m\u001b[23m) to force all conflicts to become errors\n",
      "\n",
      "Attaching package: ‘janitor’\n",
      "\n",
      "\n",
      "The following objects are masked from ‘package:stats’:\n",
      "\n",
      "    chisq.test, fisher.test\n",
      "\n",
      "\n",
      "here() starts at /home/sand94/projects/rmedicine-data-cleaning-2023\n",
      "\n"
     ]
    }
   ],
   "source": [
    "library(readxl)\n",
    "library(tidyverse)\n",
    "library(janitor)\n",
    "library(here)\n",
    "library(gtsummary)\n",
    "library(countdown)"
   ]
  },
  {
   "cell_type": "code",
   "execution_count": 2,
   "id": "1f9ef3c6-8b5a-4328-b5dc-69b615eb4558",
   "metadata": {},
   "outputs": [
    {
     "name": "stderr",
     "output_type": "stream",
     "text": [
      "\u001b[1m\u001b[22mNew names:\n",
      "\u001b[36m•\u001b[39m `` -> `...7`\n"
     ]
    }
   ],
   "source": [
    "excel_path <- here(\"data\", \"messy_uc.xlsx\")\n",
    "df_raw <- read_excel(\n",
    "  path = excel_path,\n",
    "  sheet = \"Data\",\n",
    "  skip = 6\n",
    ")"
   ]
  },
  {
   "cell_type": "code",
   "execution_count": 3,
   "id": "15b1485a-e4a5-46b7-b490-703f17a03a2b",
   "metadata": {},
   "outputs": [],
   "source": [
    "df_clean <- df_raw |> \n",
    "  janitor::clean_names() |> \n",
    "  janitor::remove_empty(which = c(\"rows\", \"cols\"))"
   ]
  },
  {
   "cell_type": "code",
   "execution_count": 4,
   "id": "f3dd2092-fa78-406b-ac33-dcfd439d7b9d",
   "metadata": {},
   "outputs": [
    {
     "name": "stdout",
     "output_type": "stream",
     "text": [
      "Rows: 30\n",
      "Columns: 37\n",
      "$ pat_id                           \u001b[3m\u001b[90m<chr>\u001b[39m\u001b[23m \"001\", \"002\", \"003\", \"004\", \"005\", \"0…\n",
      "$ treatment                        \u001b[3m\u001b[90m<chr>\u001b[39m\u001b[23m \"upa\", \"uste\", \"oza\", \"upa\", \"oza\", \"…\n",
      "$ start_date                       \u001b[3m\u001b[90m<dbl>\u001b[39m\u001b[23m 44208, 44215, 44230, 44245, 44255, 44…\n",
      "$ ethnic                           \u001b[3m\u001b[90m<chr>\u001b[39m\u001b[23m \"hispanic\", \"not hispanic\", \"not hisp…\n",
      "$ race                             \u001b[3m\u001b[90m<chr>\u001b[39m\u001b[23m \"Caucasian\", \"Caucasian\", \"African-Am…\n",
      "$ dob                              \u001b[3m\u001b[90m<dttm>\u001b[39m\u001b[23m 2005-01-07, 1937-04-13, 1946-06-06, …\n",
      "$ start_bp                         \u001b[3m\u001b[90m<chr>\u001b[39m\u001b[23m \"114/72\", \"132/86\", \"124/92\", \"144/83…\n",
      "$ pre_post_wt_kg                   \u001b[3m\u001b[90m<chr>\u001b[39m\u001b[23m \"84/82\", \"77/77\", \"74/75\", \"66/65\", \"…\n",
      "$ start_mes                        \u001b[3m\u001b[90m<dbl>\u001b[39m\u001b[23m 3, 2, 1, 3, 3, 2, 3, 3, 2, 3, 3, 3, 3…\n",
      "$ start_bss                        \u001b[3m\u001b[90m<dbl>\u001b[39m\u001b[23m 75.85449, 54.65536, 28.46290, 77.2364…\n",
      "$ start_abd_score                  \u001b[3m\u001b[90m<dbl>\u001b[39m\u001b[23m 76.80263, 53.56908, 30.82623, 77.7276…\n",
      "$ start_sys                        \u001b[3m\u001b[90m<dbl>\u001b[39m\u001b[23m 81.63807, 53.39802, 29.50837, 79.0785…\n",
      "$ start_coping                     \u001b[3m\u001b[90m<dbl>\u001b[39m\u001b[23m 50.75913, 28.23465, 20.03401, 45.1019…\n",
      "$ start_emo                        \u001b[3m\u001b[90m<dbl>\u001b[39m\u001b[23m 79.31260, 58.55421, 32.22812, 75.6089…\n",
      "$ daily_life_impact_score_at_start \u001b[3m\u001b[90m<dbl>\u001b[39m\u001b[23m 87.81723, 59.87844, 28.39321, 86.1173…\n",
      "$ start_wbc                        \u001b[3m\u001b[90m<dbl>\u001b[39m\u001b[23m 8.2, 10.1, 5.5, 4.7, 8.9, 9.3, 5.6, 9…\n",
      "$ start_plt                        \u001b[3m\u001b[90m<chr>\u001b[39m\u001b[23m \"273K/microL\", \"414K/microL\", \"323K/m…\n",
      "$ start_na                         \u001b[3m\u001b[90m<chr>\u001b[39m\u001b[23m \"137mmol/L\", \"142mmol/L\", \"140mmol/L\"…\n",
      "$ start_k                          \u001b[3m\u001b[90m<chr>\u001b[39m\u001b[23m \"3.7\", \"4.0999999999999996\", \"4.3\", \"…\n",
      "$ end_month                        \u001b[3m\u001b[90m<dbl>\u001b[39m\u001b[23m 6, 6, 7, 7, 7, 8, 8, 8, 8, 8, 9, 9, 9…\n",
      "$ end_day                          \u001b[3m\u001b[90m<dbl>\u001b[39m\u001b[23m 14, 21, 6, 22, 30, 4, 10, 15, 22, 26,…\n",
      "$ end_year                         \u001b[3m\u001b[90m<dbl>\u001b[39m\u001b[23m 2021, 2021, 2021, 2021, 2021, 2021, 2…\n",
      "$ end_mes                          \u001b[3m\u001b[90m<dbl>\u001b[39m\u001b[23m 0, 1, 1, 1, 2, 1, 2, 2, 0, 1, 0, 1, 1…\n",
      "$ end_bss                          \u001b[3m\u001b[90m<dbl>\u001b[39m\u001b[23m 9.854493, 32.655357, 28.462897, 33.23…\n",
      "$ end_abd                          \u001b[3m\u001b[90m<dbl>\u001b[39m\u001b[23m 16.802628, 33.569079, 30.826225, 37.7…\n",
      "$ end_sys                          \u001b[3m\u001b[90m<dbl>\u001b[39m\u001b[23m 9.638072, 29.398023, 29.508373, 31.07…\n",
      "$ end_coping                       \u001b[3m\u001b[90m<dbl>\u001b[39m\u001b[23m 23.759131, 19.234646, 20.034009, 27.1…\n",
      "$ end_emo                          \u001b[3m\u001b[90m<chr>\u001b[39m\u001b[23m \"39.760954572288782\", \"49.36928154791…\n",
      "$ end_dl                           \u001b[3m\u001b[90m<chr>\u001b[39m\u001b[23m \"9.4097102977463347\", \"35.23874059870…\n",
      "$ end_wbc                          \u001b[3m\u001b[90m<dbl>\u001b[39m\u001b[23m 8.541698, 11.076921, 3.000000, 4.8581…\n",
      "$ end_plt                          \u001b[3m\u001b[90m<dbl>\u001b[39m\u001b[23m 201, 340, 256, 327, 432, 348, 181, 12…\n",
      "$ end_na                           \u001b[3m\u001b[90m<dbl>\u001b[39m\u001b[23m 137.3278, 142.2140, 140.0831, 139.158…\n",
      "$ end_k                            \u001b[3m\u001b[90m<dbl>\u001b[39m\u001b[23m 3.958430, 4.174979, 4.433533, 3.53357…\n",
      "$ fake_street                      \u001b[3m\u001b[90m<chr>\u001b[39m\u001b[23m \"990 Mohammad Mountain\", \"8512 O'Conn…\n",
      "$ fake_city                        \u001b[3m\u001b[90m<chr>\u001b[39m\u001b[23m \"North Sigmundville\", \"Port Halstad\",…\n",
      "$ fake_state                       \u001b[3m\u001b[90m<chr>\u001b[39m\u001b[23m \"New Mexico\", \"Missouri\", \"South Caro…\n",
      "$ fake_zip                         \u001b[3m\u001b[90m<dbl>\u001b[39m\u001b[23m 96074, 11264, 57246, 31457, 30711, 52…\n"
     ]
    }
   ],
   "source": [
    "df_clean |> glimpse()"
   ]
  },
  {
   "cell_type": "code",
   "execution_count": 5,
   "id": "1ce4a0f2-842b-40ae-88bd-dd4a10d7bdde",
   "metadata": {},
   "outputs": [
    {
     "data": {
      "text/html": [
       "<table class=\"dataframe\">\n",
       "<caption>A tibble: 5 × 2</caption>\n",
       "<thead>\n",
       "\t<tr><th scope=col>ethnic</th><th scope=col>n</th></tr>\n",
       "\t<tr><th scope=col>&lt;chr&gt;</th><th scope=col>&lt;int&gt;</th></tr>\n",
       "</thead>\n",
       "<tbody>\n",
       "\t<tr><td>Hispanic    </td><td> 1</td></tr>\n",
       "\t<tr><td>NOT hispanic</td><td> 1</td></tr>\n",
       "\t<tr><td>hispamnic   </td><td> 1</td></tr>\n",
       "\t<tr><td>hispanic    </td><td> 3</td></tr>\n",
       "\t<tr><td>not hispanic</td><td>24</td></tr>\n",
       "</tbody>\n",
       "</table>\n"
      ],
      "text/latex": [
       "A tibble: 5 × 2\n",
       "\\begin{tabular}{ll}\n",
       " ethnic & n\\\\\n",
       " <chr> & <int>\\\\\n",
       "\\hline\n",
       "\t Hispanic     &  1\\\\\n",
       "\t NOT hispanic &  1\\\\\n",
       "\t hispamnic    &  1\\\\\n",
       "\t hispanic     &  3\\\\\n",
       "\t not hispanic & 24\\\\\n",
       "\\end{tabular}\n"
      ],
      "text/markdown": [
       "\n",
       "A tibble: 5 × 2\n",
       "\n",
       "| ethnic &lt;chr&gt; | n &lt;int&gt; |\n",
       "|---|---|\n",
       "| Hispanic     |  1 |\n",
       "| NOT hispanic |  1 |\n",
       "| hispamnic    |  1 |\n",
       "| hispanic     |  3 |\n",
       "| not hispanic | 24 |\n",
       "\n"
      ],
      "text/plain": [
       "  ethnic       n \n",
       "1 Hispanic      1\n",
       "2 NOT hispanic  1\n",
       "3 hispamnic     1\n",
       "4 hispanic      3\n",
       "5 not hispanic 24"
      ]
     },
     "metadata": {},
     "output_type": "display_data"
    }
   ],
   "source": [
    "df_clean |> count(ethnic)"
   ]
  },
  {
   "cell_type": "code",
   "execution_count": 6,
   "id": "86468665-4b77-41a1-bcab-18d6af36358f",
   "metadata": {},
   "outputs": [
    {
     "data": {
      "text/html": [
       "<table class=\"dataframe\">\n",
       "<caption>A tibble: 5 × 3</caption>\n",
       "<thead>\n",
       "\t<tr><th scope=col>ethnic_clean</th><th scope=col>ethnic</th><th scope=col>n</th></tr>\n",
       "\t<tr><th scope=col>&lt;chr&gt;</th><th scope=col>&lt;chr&gt;</th><th scope=col>&lt;int&gt;</th></tr>\n",
       "</thead>\n",
       "<tbody>\n",
       "\t<tr><td>hispanic    </td><td>Hispanic    </td><td> 1</td></tr>\n",
       "\t<tr><td>hispanic    </td><td>hispamnic   </td><td> 1</td></tr>\n",
       "\t<tr><td>hispanic    </td><td>hispanic    </td><td> 3</td></tr>\n",
       "\t<tr><td>not hispanic</td><td>NOT hispanic</td><td> 1</td></tr>\n",
       "\t<tr><td>not hispanic</td><td>not hispanic</td><td>24</td></tr>\n",
       "</tbody>\n",
       "</table>\n"
      ],
      "text/latex": [
       "A tibble: 5 × 3\n",
       "\\begin{tabular}{lll}\n",
       " ethnic\\_clean & ethnic & n\\\\\n",
       " <chr> & <chr> & <int>\\\\\n",
       "\\hline\n",
       "\t hispanic     & Hispanic     &  1\\\\\n",
       "\t hispanic     & hispamnic    &  1\\\\\n",
       "\t hispanic     & hispanic     &  3\\\\\n",
       "\t not hispanic & NOT hispanic &  1\\\\\n",
       "\t not hispanic & not hispanic & 24\\\\\n",
       "\\end{tabular}\n"
      ],
      "text/markdown": [
       "\n",
       "A tibble: 5 × 3\n",
       "\n",
       "| ethnic_clean &lt;chr&gt; | ethnic &lt;chr&gt; | n &lt;int&gt; |\n",
       "|---|---|---|\n",
       "| hispanic     | Hispanic     |  1 |\n",
       "| hispanic     | hispamnic    |  1 |\n",
       "| hispanic     | hispanic     |  3 |\n",
       "| not hispanic | NOT hispanic |  1 |\n",
       "| not hispanic | not hispanic | 24 |\n",
       "\n"
      ],
      "text/plain": [
       "  ethnic_clean ethnic       n \n",
       "1 hispanic     Hispanic      1\n",
       "2 hispanic     hispamnic     1\n",
       "3 hispanic     hispanic      3\n",
       "4 not hispanic NOT hispanic  1\n",
       "5 not hispanic not hispanic 24"
      ]
     },
     "metadata": {},
     "output_type": "display_data"
    }
   ],
   "source": [
    "df_clean <- df_raw |> \n",
    "  janitor::clean_names() |> \n",
    "  janitor::remove_empty(which = c(\"rows\", \"cols\")) |>\n",
    "  mutate(\n",
    "    ethnic_clean = case_when(\n",
    "      ethnic %in%  c(\"hispanic\", \"Hispanic\", \"hispamnic\") ~ \"hispanic\",\n",
    "      ethnic %in%  c(\"NOT hispanic\", \"not hispanic\") ~ \"not hispanic\",\n",
    "      .default = ethnic\n",
    "    )\n",
    "  )\n",
    "\n",
    "df_clean |> count(ethnic_clean, ethnic)"
   ]
  },
  {
   "cell_type": "code",
   "execution_count": 7,
   "id": "3e9bb6dd-6b43-46bf-a25e-5e05818d37ca",
   "metadata": {},
   "outputs": [
    {
     "data": {
      "text/html": [
       "<table class=\"dataframe\">\n",
       "<caption>A tibble: 9 × 3</caption>\n",
       "<thead>\n",
       "\t<tr><th scope=col>race_clean</th><th scope=col>race</th><th scope=col>n</th></tr>\n",
       "\t<tr><th scope=col>&lt;chr&gt;</th><th scope=col>&lt;chr&gt;</th><th scope=col>&lt;int&gt;</th></tr>\n",
       "</thead>\n",
       "<tbody>\n",
       "\t<tr><td>African-American</td><td>African-American</td><td> 4</td></tr>\n",
       "\t<tr><td>African-American</td><td>afromerican     </td><td> 2</td></tr>\n",
       "\t<tr><td>AmerInd         </td><td>AmerInd         </td><td> 1</td></tr>\n",
       "\t<tr><td>Asian           </td><td>Asian           </td><td> 1</td></tr>\n",
       "\t<tr><td>Caucasian       </td><td>Caucasian       </td><td>17</td></tr>\n",
       "\t<tr><td>Hawaiian        </td><td>Hawaiian        </td><td> 1</td></tr>\n",
       "\t<tr><td>Other           </td><td>H/API           </td><td> 1</td></tr>\n",
       "\t<tr><td>Other           </td><td>Mixed           </td><td> 1</td></tr>\n",
       "\t<tr><td>Other           </td><td>Other           </td><td> 2</td></tr>\n",
       "</tbody>\n",
       "</table>\n"
      ],
      "text/latex": [
       "A tibble: 9 × 3\n",
       "\\begin{tabular}{lll}\n",
       " race\\_clean & race & n\\\\\n",
       " <chr> & <chr> & <int>\\\\\n",
       "\\hline\n",
       "\t African-American & African-American &  4\\\\\n",
       "\t African-American & afromerican      &  2\\\\\n",
       "\t AmerInd          & AmerInd          &  1\\\\\n",
       "\t Asian            & Asian            &  1\\\\\n",
       "\t Caucasian        & Caucasian        & 17\\\\\n",
       "\t Hawaiian         & Hawaiian         &  1\\\\\n",
       "\t Other            & H/API            &  1\\\\\n",
       "\t Other            & Mixed            &  1\\\\\n",
       "\t Other            & Other            &  2\\\\\n",
       "\\end{tabular}\n"
      ],
      "text/markdown": [
       "\n",
       "A tibble: 9 × 3\n",
       "\n",
       "| race_clean &lt;chr&gt; | race &lt;chr&gt; | n &lt;int&gt; |\n",
       "|---|---|---|\n",
       "| African-American | African-American |  4 |\n",
       "| African-American | afromerican      |  2 |\n",
       "| AmerInd          | AmerInd          |  1 |\n",
       "| Asian            | Asian            |  1 |\n",
       "| Caucasian        | Caucasian        | 17 |\n",
       "| Hawaiian         | Hawaiian         |  1 |\n",
       "| Other            | H/API            |  1 |\n",
       "| Other            | Mixed            |  1 |\n",
       "| Other            | Other            |  2 |\n",
       "\n"
      ],
      "text/plain": [
       "  race_clean       race             n \n",
       "1 African-American African-American  4\n",
       "2 African-American afromerican       2\n",
       "3 AmerInd          AmerInd           1\n",
       "4 Asian            Asian             1\n",
       "5 Caucasian        Caucasian        17\n",
       "6 Hawaiian         Hawaiian          1\n",
       "7 Other            H/API             1\n",
       "8 Other            Mixed             1\n",
       "9 Other            Other             2"
      ]
     },
     "metadata": {},
     "output_type": "display_data"
    }
   ],
   "source": [
    "df_clean <- df_raw |> \n",
    "  janitor::clean_names() |> \n",
    "  janitor::remove_empty(which = c(\"rows\", \"cols\")) |> \n",
    "  mutate(\n",
    "    race_clean = case_when(\n",
    "      race %in% c(\"African-American\", \"afromerican\") ~ \"African-American\",\n",
    "      race %in% c(\"H/API\", \"Mixed\", \"Other\") ~ \"Other\",\n",
    "      .default = race\n",
    "    )\n",
    "  )\n",
    "\n",
    "df_clean |> \n",
    "  count(race_clean, race)"
   ]
  },
  {
   "cell_type": "code",
   "execution_count": 8,
   "id": "805fba4c-3829-4b4e-818e-f6df31c7f41a",
   "metadata": {},
   "outputs": [
    {
     "name": "stderr",
     "output_type": "stream",
     "text": [
      "Loading required package: sysfonts\n",
      "\n",
      "Loading required package: showtextdb\n",
      "\n"
     ]
    }
   ],
   "source": [
    "library(showtext) \n",
    "showtext_opts(dpi = 300)\n",
    "showtext_auto(enable = TRUE)"
   ]
  },
  {
   "cell_type": "code",
   "execution_count": 9,
   "id": "046083c1-24cf-4513-93df-f4ad171baf8e",
   "metadata": {},
   "outputs": [],
   "source": [
    "# installing Cairo to produce ggplot figures resolves the low resolution font problem\n",
    "options(repr.plot.res = 300)"
   ]
  },
  {
   "cell_type": "code",
   "execution_count": 10,
   "id": "5ec70650-b666-4097-8083-a1e8b576f14c",
   "metadata": {},
   "outputs": [
    {
     "name": "stderr",
     "output_type": "stream",
     "text": [
      "\u001b[1m\u001b[22m`stat_bin()` using `bins = 30`. Pick better value with `binwidth`.\n"
     ]
    },
    {
     "data": {
      "image/png": "[encoded data removed]",
      "text/plain": [
       "plot without title"
      ]
     },
     "metadata": {
      "image/png": {
       "height": 1050,
       "width": 1050
      }
     },
     "output_type": "display_data"
    }
   ],
   "source": [
    "df_clean |> \n",
    "  ggplot(aes(x = end_na)) +\n",
    "  geom_histogram()"
   ]
  },
  {
   "cell_type": "code",
   "execution_count": null,
   "id": "e817401f-a083-4708-9633-50dc34369d96",
   "metadata": {},
   "outputs": [],
   "source": []
  }
 ],
 "metadata": {
  "kernelspec": {
   "display_name": "R",
   "language": "R",
   "name": "ir"
  },
  "language_info": {
   "codemirror_mode": "r",
   "file_extension": ".r",
   "mimetype": "text/x-r-source",
   "name": "R",
   "pygments_lexer": "r",
   "version": "4.3.1"
  }
 },
 "nbformat": 4,
 "nbformat_minor": 5
}
